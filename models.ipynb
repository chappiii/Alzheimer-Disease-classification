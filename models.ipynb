{
 "cells": [
  {
   "cell_type": "code",
   "execution_count": 12,
   "id": "ee76958b-883c-4995-bdd4-34842de8464c",
   "metadata": {},
   "outputs": [],
   "source": [
    "import pandas as pd\n",
    "import numpy as np\n",
    "import matplotlib.pyplot as plt\n",
    "import seaborn as sns\n",
    "from sklearn.model_selection import train_test_split"
   ]
  },
  {
   "cell_type": "code",
   "execution_count": 14,
   "id": "746d9360-11ac-4465-9ba4-35bd6a294788",
   "metadata": {},
   "outputs": [
    {
     "data": {
      "text/plain": [
       "(2149, 35)"
      ]
     },
     "execution_count": 14,
     "metadata": {},
     "output_type": "execute_result"
    }
   ],
   "source": [
    "# read data\n",
    "data = pd.read_csv(\"alzheimers_disease_data.csv\")\n",
    "data.shape"
   ]
  },
  {
   "cell_type": "code",
   "execution_count": 16,
   "id": "1818b09c-3bb6-49db-8626-592d7bb1daae",
   "metadata": {},
   "outputs": [
    {
     "name": "stdout",
     "output_type": "stream",
     "text": [
      "Updated Dataset After One-Hot Encoding:\n",
      "   PatientID  Age  Gender        BMI  Smoking  AlcoholConsumption  \\\n",
      "0       4751   73       0  22.927749        0           13.297218   \n",
      "1       4752   89       0  26.827681        0            4.542524   \n",
      "2       4753   73       0  17.795882        0           19.555085   \n",
      "3       4754   74       1  33.800817        1           12.209266   \n",
      "4       4755   89       0  20.716974        0           18.454356   \n",
      "\n",
      "   PhysicalActivity  DietQuality  SleepQuality  FamilyHistoryAlzheimers  ...  \\\n",
      "0          6.327112     1.347214      9.025679                        0  ...   \n",
      "1          7.619885     0.518767      7.151293                        0  ...   \n",
      "2          7.844988     1.826335      9.673574                        1  ...   \n",
      "3          8.428001     7.435604      8.392554                        0  ...   \n",
      "4          6.310461     0.795498      5.597238                        0  ...   \n",
      "\n",
      "   Diagnosis  DoctorInCharge  Ethnicity_0  Ethnicity_1  Ethnicity_2  \\\n",
      "0          0       XXXConfid          1.0          0.0          0.0   \n",
      "1          0       XXXConfid          1.0          0.0          0.0   \n",
      "2          0       XXXConfid          0.0          0.0          0.0   \n",
      "3          0       XXXConfid          1.0          0.0          0.0   \n",
      "4          0       XXXConfid          1.0          0.0          0.0   \n",
      "\n",
      "   Ethnicity_3  EducationLevel_0  EducationLevel_1  EducationLevel_2  \\\n",
      "0          0.0               0.0               0.0               1.0   \n",
      "1          0.0               1.0               0.0               0.0   \n",
      "2          1.0               0.0               1.0               0.0   \n",
      "3          0.0               0.0               1.0               0.0   \n",
      "4          0.0               1.0               0.0               0.0   \n",
      "\n",
      "   EducationLevel_3  \n",
      "0               0.0  \n",
      "1               0.0  \n",
      "2               0.0  \n",
      "3               0.0  \n",
      "4               0.0  \n",
      "\n",
      "[5 rows x 41 columns]\n"
     ]
    }
   ],
   "source": [
    "import pandas as pd\n",
    "from sklearn.preprocessing import OneHotEncoder\n",
    "\n",
    "# Step 1: Select the nominal categorical features\n",
    "nominal_features = ['Ethnicity', 'EducationLevel']\n",
    "\n",
    "# Step 2: Initialize One-Hot Encoder without dropping any category\n",
    "ohe = OneHotEncoder(drop=None, sparse_output=False)  # Keep all categories\n",
    "\n",
    "# Step 3: Fit and transform the categorical features\n",
    "encoded_features = ohe.fit_transform(data[nominal_features])\n",
    "\n",
    "# Step 4: Convert the encoded features into a DataFrame\n",
    "encoded_df = pd.DataFrame(encoded_features, columns=ohe.get_feature_names_out(nominal_features))\n",
    "\n",
    "# Step 5: Drop the original categorical columns and merge encoded features\n",
    "data = data.drop(columns=nominal_features).reset_index(drop=True)  # Drop original categorical columns\n",
    "data = pd.concat([data, encoded_df], axis=1)  # Merge encoded data\n",
    "\n",
    "# Step 6: Verify the transformed data\n",
    "print(\"Updated Dataset After One-Hot Encoding:\")\n",
    "print(data.head())\n"
   ]
  },
  {
   "cell_type": "code",
   "execution_count": 18,
   "id": "7a0943aa-13ab-4659-9e3b-307c5992c550",
   "metadata": {},
   "outputs": [],
   "source": [
    "selected_features = [\n",
    "    'FunctionalAssessment', 'ADL', 'MemoryComplaints', 'MMSE', 'BehavioralProblems', 'SleepQuality',\n",
    "    'CholesterolHDL', 'Ethnicity_2', 'Hypertension', 'Ethnicity_1', 'CholesterolLDL', 'Diabetes',\n",
    "    'EducationLevel_3', 'BMI', 'Ethnicity_3', 'Disorientation', 'CholesterolTriglycerides',\n",
    "    'AlcoholConsumption', 'Forgetfulness', 'PersonalityChanges', 'Gender'\n",
    "]"
   ]
  },
  {
   "cell_type": "code",
   "execution_count": 20,
   "id": "19e86c59-78ca-4701-abcf-4041b3517dbe",
   "metadata": {},
   "outputs": [],
   "source": [
    "X = data[selected_features]  \n",
    "y = data['Diagnosis']"
   ]
  },
  {
   "cell_type": "code",
   "execution_count": 22,
   "id": "041df1fb-9f06-420f-9baf-a79b43476325",
   "metadata": {},
   "outputs": [],
   "source": [
    "# Split the data into 80% train and 20% test\n",
    "X_train, X_test, y_train, y_test = train_test_split(X, y, test_size=0.2, random_state=42)"
   ]
  },
  {
   "cell_type": "code",
   "execution_count": 28,
   "id": "eb0dabc5-1a53-49cf-8aea-00f4fd58f5f2",
   "metadata": {},
   "outputs": [],
   "source": [
    "from sklearn.model_selection import train_test_split\n",
    "from sklearn.preprocessing import StandardScaler\n",
    "\n",
    "scaler = StandardScaler()\n",
    "\n",
    "# Fit on training data and transform both train and test separately\n",
    "X_train_scaled = scaler.fit_transform(X_train)  \n",
    "X_test_scaled = scaler.transform(X_test)  "
   ]
  },
  {
   "cell_type": "markdown",
   "id": "8f8a744d-2ed1-4823-99c0-f78884074e9c",
   "metadata": {},
   "source": [
    "## DT"
   ]
  },
  {
   "cell_type": "code",
   "execution_count": 37,
   "id": "9c726f6d-e92c-4af3-bae1-4182bbe3c566",
   "metadata": {},
   "outputs": [
    {
     "name": "stdout",
     "output_type": "stream",
     "text": [
      "Accuracy: 0.9\n",
      "Classification Report:\n",
      "               precision    recall  f1-score   support\n",
      "\n",
      "           0       0.91      0.94      0.92       277\n",
      "           1       0.88      0.83      0.86       153\n",
      "\n",
      "    accuracy                           0.90       430\n",
      "   macro avg       0.90      0.88      0.89       430\n",
      "weighted avg       0.90      0.90      0.90       430\n",
      "\n",
      "Confusion Matrix:\n",
      " [[260  17]\n",
      " [ 26 127]]\n"
     ]
    }
   ],
   "source": [
    "from sklearn.tree import DecisionTreeClassifier\n",
    "from sklearn.metrics import accuracy_score, classification_report, confusion_matrix\n",
    "import seaborn as sns\n",
    "import matplotlib.pyplot as plt\n",
    "\n",
    "dt = DecisionTreeClassifier(random_state=42)\n",
    "\n",
    "dt.fit(X_train_scaled, y_train)\n",
    "\n",
    "dt_y_pred = dt.predict(X_test_scaled)\n",
    "\n",
    "print(\"Accuracy:\", accuracy_score(y_test, dt_y_pred))\n",
    "print(\"Classification Report:\\n\", classification_report(y_test, dt_y_pred))\n",
    "print(\"Confusion Matrix:\\n\", confusion_matrix(y_test, dt_y_pred))"
   ]
  },
  {
   "cell_type": "markdown",
   "id": "a088435c-08cb-4e6c-bdd1-c7a67a4d908d",
   "metadata": {},
   "source": [
    "## RF"
   ]
  },
  {
   "cell_type": "code",
   "execution_count": 39,
   "id": "5bfd93ac-814a-4801-b911-15a9b8e4baa3",
   "metadata": {},
   "outputs": [
    {
     "name": "stdout",
     "output_type": "stream",
     "text": [
      "Accuracy: 0.942\n",
      "\n",
      "Classification Report:\n",
      "               precision    recall  f1-score   support\n",
      "\n",
      "           0       0.93      0.98      0.96       277\n",
      "           1       0.96      0.87      0.91       153\n",
      "\n",
      "    accuracy                           0.94       430\n",
      "   macro avg       0.95      0.93      0.94       430\n",
      "weighted avg       0.94      0.94      0.94       430\n",
      "\n",
      "\n",
      "Confusion Matrix:\n",
      " [[272   5]\n",
      " [ 20 133]]\n"
     ]
    },
    {
     "data": {
      "image/png": "[encoded data removed]",
      "text/plain": [
       "<Figure size 600x400 with 2 Axes>"
      ]
     },
     "metadata": {},
     "output_type": "display_data"
    }
   ],
   "source": [
    "from sklearn.ensemble import RandomForestClassifier\n",
    "from sklearn.metrics import accuracy_score, classification_report, confusion_matrix\n",
    "\n",
    "# Initialize Random Forest Classifier\n",
    "rf = RandomForestClassifier(random_state=42, n_estimators=100)  # 100 trees in the forest\n",
    "\n",
    "# Train the model\n",
    "rf.fit(X_train_scaled, y_train)\n",
    "\n",
    "# Make predictions\n",
    "rf_y_pred = rf.predict(X_test_scaled)\n",
    "\n",
    "# Print evaluation metrics\n",
    "print(\"Accuracy:\", f\"{accuracy_score(y_test, rf_y_pred):.3f}\")\n",
    "print(\"\\nClassification Report:\\n\", classification_report(y_test, rf_y_pred))\n",
    "print(\"\\nConfusion Matrix:\\n\", confusion_matrix(y_test, rf_y_pred))\n"
   ]
  },
  {
   "cell_type": "markdown",
   "id": "2105eccc-37bf-4194-ad55-3ac38fb47f69",
   "metadata": {},
   "source": [
    "## XGBoost"
   ]
  },
  {
   "cell_type": "code",
   "execution_count": null,
   "id": "8ea569b3-5acd-4af2-8b01-bc0c7322e123",
   "metadata": {},
   "outputs": [],
   "source": []
  },
  {
   "cell_type": "markdown",
   "id": "e82cabf0-f6db-462a-a49e-269efe251eff",
   "metadata": {},
   "source": [
    "## Catboost"
   ]
  },
  {
   "cell_type": "code",
   "execution_count": null,
   "id": "da4863f5-7145-44c5-98fd-3cc770893f64",
   "metadata": {},
   "outputs": [],
   "source": []
  }
 ],
 "metadata": {
  "kernelspec": {
   "display_name": "Python 3 (ipykernel)",
   "language": "python",
   "name": "python3"
  },
  "language_info": {
   "codemirror_mode": {
    "name": "ipython",
    "version": 3
   },
   "file_extension": ".py",
   "mimetype": "text/x-python",
   "name": "python",
   "nbconvert_exporter": "python",
   "pygments_lexer": "ipython3",
   "version": "3.12.4"
  }
 },
 "nbformat": 4,
 "nbformat_minor": 5
}
