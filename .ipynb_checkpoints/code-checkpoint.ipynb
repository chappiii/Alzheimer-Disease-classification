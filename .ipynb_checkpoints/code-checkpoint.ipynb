{
 "cells": [
  {
   "cell_type": "markdown",
   "id": "4e36051e-e1d9-4b83-bd49-10dedacdad7a",
   "metadata": {},
   "source": [
    "## Understand Data"
   ]
  },
  {
   "cell_type": "code",
   "execution_count": 2,
   "id": "ca5ad4a7-412a-41d3-bd21-5b6329c604c0",
   "metadata": {},
   "outputs": [],
   "source": [
    "import pandas as pd\n",
    "import numpy as np\n",
    "import matplotlib.pyplot as plt\n",
    "import seaborn as sns"
   ]
  },
  {
   "cell_type": "code",
   "execution_count": 3,
   "id": "7078b831-8189-44b4-a607-11511dc658a9",
   "metadata": {},
   "outputs": [],
   "source": [
    "# read data\n",
    "data = pd.read_csv(\"alzheimers_disease_data.csv\")"
   ]
  },
  {
   "cell_type": "code",
   "execution_count": 4,
   "id": "2d006c91-1d6c-4a70-8237-fc2bd7c4241d",
   "metadata": {},
   "outputs": [
    {
     "data": {
      "text/plain": [
       "PatientID                    2149\n",
       "Age                            31\n",
       "Gender                          2\n",
       "Ethnicity                       4\n",
       "EducationLevel                  4\n",
       "BMI                          2149\n",
       "Smoking                         2\n",
       "AlcoholConsumption           2149\n",
       "PhysicalActivity             2149\n",
       "DietQuality                  2149\n",
       "SleepQuality                 2149\n",
       "FamilyHistoryAlzheimers         2\n",
       "CardiovascularDisease           2\n",
       "Diabetes                        2\n",
       "Depression                      2\n",
       "HeadInjury                      2\n",
       "Hypertension                    2\n",
       "SystolicBP                     90\n",
       "DiastolicBP                    60\n",
       "CholesterolTotal             2149\n",
       "CholesterolLDL               2149\n",
       "CholesterolHDL               2149\n",
       "CholesterolTriglycerides     2149\n",
       "MMSE                         2149\n",
       "FunctionalAssessment         2149\n",
       "MemoryComplaints                2\n",
       "BehavioralProblems              2\n",
       "ADL                          2149\n",
       "Confusion                       2\n",
       "Disorientation                  2\n",
       "PersonalityChanges              2\n",
       "DifficultyCompletingTasks       2\n",
       "Forgetfulness                   2\n",
       "Diagnosis                       2\n",
       "DoctorInCharge                  1\n",
       "dtype: int64"
      ]
     },
     "execution_count": 4,
     "metadata": {},
     "output_type": "execute_result"
    }
   ],
   "source": [
    "data.nunique() # Number of unique values can help in determining which features are numerical which ones are categorical features."
   ]
  },
  {
   "cell_type": "code",
   "execution_count": null,
   "id": "60e1e4f6-b807-4e7f-8e83-f2e6251cb064",
   "metadata": {},
   "outputs": [],
   "source": []
  }
 ],
 "metadata": {
  "kernelspec": {
   "display_name": "Python 3 (ipykernel)",
   "language": "python",
   "name": "python3"
  },
  "language_info": {
   "codemirror_mode": {
    "name": "ipython",
    "version": 3
   },
   "file_extension": ".py",
   "mimetype": "text/x-python",
   "name": "python",
   "nbconvert_exporter": "python",
   "pygments_lexer": "ipython3",
   "version": "3.12.4"
  }
 },
 "nbformat": 4,
 "nbformat_minor": 5
}
